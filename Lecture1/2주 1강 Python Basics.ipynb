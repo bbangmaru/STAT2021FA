{
 "cells": [
  {
   "cell_type": "code",
   "execution_count": 1,
   "id": "97571d16",
   "metadata": {},
   "outputs": [
    {
     "name": "stdout",
     "output_type": "stream",
     "text": [
      "sys.version_info(major=3, minor=8, micro=8, releaselevel='final', serial=0)\n"
     ]
    }
   ],
   "source": [
    "import sys # 외부/배누 패키지는 import로 불러옴\n",
    "print(sys.version_info) #버전 확인"
   ]
  },
  {
   "cell_type": "code",
   "execution_count": 2,
   "id": "2294515c",
   "metadata": {},
   "outputs": [
    {
     "name": "stdout",
     "output_type": "stream",
     "text": [
      "Hello world\n",
      "Hello world\n"
     ]
    }
   ],
   "source": [
    "#주석\n",
    "print(\"Hello world\")\n",
    "\"\"\"\n",
    "여러줄\n",
    "주석을\n",
    "달 수 \n",
    "있습니다\n",
    "\"\"\"\n",
    "print(\"Hello world\")"
   ]
  },
  {
   "cell_type": "code",
   "execution_count": 3,
   "id": "f9e145e5",
   "metadata": {},
   "outputs": [
    {
     "name": "stdout",
     "output_type": "stream",
     "text": [
      "Hello world\n"
     ]
    },
    {
     "data": {
      "text/plain": [
       "'\\n여러줄\\n주석을\\n달 수 \\n있습니다\\n'"
      ]
     },
     "execution_count": 3,
     "metadata": {},
     "output_type": "execute_result"
    }
   ],
   "source": [
    "#주석\n",
    "print(\"Hello world\")\n",
    "\"\"\"\n",
    "여러줄\n",
    "주석을\n",
    "달 수 \n",
    "있습니다\n",
    "\"\"\"\n",
    "#print(\"Hello world\")"
   ]
  },
  {
   "cell_type": "code",
   "execution_count": 4,
   "id": "a182e58a",
   "metadata": {},
   "outputs": [],
   "source": [
    "name = \"sunho\""
   ]
  },
  {
   "cell_type": "code",
   "execution_count": 5,
   "id": "a016433a",
   "metadata": {},
   "outputs": [],
   "source": [
    "var1 = 100\n",
    "var2 = 100.1\n",
    "var3 = \"String\"\n",
    "var4 = [100, 100]#list\n",
    "var5 = {1: 100, 2: 200} # dict\n",
    "var6 = {100, 200, 300} #set"
   ]
  },
  {
   "cell_type": "code",
   "execution_count": 9,
   "id": "e8a25208",
   "metadata": {},
   "outputs": [
    {
     "name": "stdout",
     "output_type": "stream",
     "text": [
      "40\n",
      "6\n",
      "14\n",
      "2.5\n",
      "2\n",
      "2\n",
      "10000\n"
     ]
    }
   ],
   "source": [
    "print(10 * 4)\n",
    "print(10 - 4)\n",
    "print(10 + 4)\n",
    "print(10 / 4)\n",
    "print(10 % 4)\n",
    "print(10 // 4)\n",
    "print(10 ** 4)"
   ]
  },
  {
   "cell_type": "code",
   "execution_count": 12,
   "id": "85290459",
   "metadata": {},
   "outputs": [
    {
     "name": "stdout",
     "output_type": "stream",
     "text": [
      "2\n"
     ]
    }
   ],
   "source": [
    "i = 1\n",
    "i+=1\n",
    "print(i)\n",
    "# i++ 없음"
   ]
  },
  {
   "cell_type": "code",
   "execution_count": 13,
   "id": "b854b713",
   "metadata": {},
   "outputs": [
    {
     "name": "stdout",
     "output_type": "stream",
     "text": [
      "-9\n"
     ]
    }
   ],
   "source": [
    "print(1 + 2-3*4)"
   ]
  },
  {
   "cell_type": "code",
   "execution_count": 14,
   "id": "87ea289c",
   "metadata": {},
   "outputs": [
    {
     "name": "stdout",
     "output_type": "stream",
     "text": [
      "스트링을 출력 string, 스트링 \n",
      "여러줄\n",
      "스트링을\n",
      "정의합시다\n",
      " 개인적으로는 한 줄에 개행문자\n",
      "을 쓰는 것을 더 선호\n"
     ]
    }
   ],
   "source": [
    "# string -> 문자열\n",
    "simple_string = \"string, 스트링\"\n",
    "\n",
    "multiline_string = '''\n",
    "여러줄\n",
    "스트링을\n",
    "정의합시다\n",
    "'''\n",
    "\n",
    "multiline_string2 = \"개인적으로는 한 줄에 개행문자\\n을 쓰는 것을 더 선호\"\n",
    "print(\"%s %s %s %s\" % (\"스트링을 출력\", simple_string, multiline_string, multiline_string2))"
   ]
  },
  {
   "cell_type": "code",
   "execution_count": 15,
   "id": "ff1a32e5",
   "metadata": {},
   "outputs": [
    {
     "name": "stdout",
     "output_type": "stream",
     "text": [
      "hello world\thello world\n"
     ]
    }
   ],
   "source": [
    "print(\"hello world\", end=\"\\t\")\n",
    "print(\"hello world\")"
   ]
  },
  {
   "cell_type": "code",
   "execution_count": 16,
   "id": "d1ed38b7",
   "metadata": {},
   "outputs": [
    {
     "name": "stdout",
     "output_type": "stream",
     "text": [
      "howare you\n"
     ]
    }
   ],
   "source": [
    "print(\"how\" + \"are you\")"
   ]
  },
  {
   "cell_type": "code",
   "execution_count": 17,
   "id": "6d4dd7bd",
   "metadata": {},
   "outputs": [
    {
     "name": "stdout",
     "output_type": "stream",
     "text": [
      "호날두\n"
     ]
    }
   ],
   "source": [
    "# list\n",
    "class_list = [\"호날두\", \"메시\", \"덕배\", \"즐라탄\"]\n",
    "print(class_list[0])"
   ]
  },
  {
   "cell_type": "code",
   "execution_count": 18,
   "id": "15b5ba91",
   "metadata": {},
   "outputs": [
    {
     "name": "stdout",
     "output_type": "stream",
     "text": [
      "호날두\n"
     ]
    }
   ],
   "source": [
    "print(class_list[0])"
   ]
  },
  {
   "cell_type": "code",
   "execution_count": 19,
   "id": "e4d2d272",
   "metadata": {},
   "outputs": [
    {
     "name": "stdout",
     "output_type": "stream",
     "text": [
      "['메시', '덕배']\n"
     ]
    }
   ],
   "source": [
    "print(class_list[1:3])"
   ]
  },
  {
   "cell_type": "code",
   "execution_count": 21,
   "id": "810fbe11",
   "metadata": {},
   "outputs": [],
   "source": [
    "homework_list = [\"a\", \"b\", \"c\", \"d\"]"
   ]
  },
  {
   "cell_type": "code",
   "execution_count": 22,
   "id": "fe29bee6",
   "metadata": {},
   "outputs": [],
   "source": [
    "dmen = [class_list, homework_list]"
   ]
  },
  {
   "cell_type": "code",
   "execution_count": 23,
   "id": "0301b847",
   "metadata": {},
   "outputs": [
    {
     "data": {
      "text/plain": [
       "[['호날두', '메시', '덕배', '즐라탄'], ['a', 'b', 'c', 'd']]"
      ]
     },
     "execution_count": 23,
     "metadata": {},
     "output_type": "execute_result"
    }
   ],
   "source": [
    "dmen"
   ]
  },
  {
   "cell_type": "code",
   "execution_count": 24,
   "id": "59ce4a69",
   "metadata": {},
   "outputs": [],
   "source": [
    "dmen.append(\"호우야\")"
   ]
  },
  {
   "cell_type": "code",
   "execution_count": 25,
   "id": "f06dc245",
   "metadata": {},
   "outputs": [
    {
     "name": "stdout",
     "output_type": "stream",
     "text": [
      "[['호날두', '메시', '덕배', '즐라탄'], ['a', 'b', 'c', 'd'], '호우야']\n"
     ]
    }
   ],
   "source": [
    "print(dmen)"
   ]
  },
  {
   "cell_type": "code",
   "execution_count": 27,
   "id": "7f23140a",
   "metadata": {},
   "outputs": [
    {
     "data": {
      "text/plain": [
       "['덕배', '메시', '즐라탄', '호날두']"
      ]
     },
     "execution_count": 27,
     "metadata": {},
     "output_type": "execute_result"
    }
   ],
   "source": [
    "sorted(class_list)"
   ]
  },
  {
   "cell_type": "code",
   "execution_count": 28,
   "id": "97d1714e",
   "metadata": {},
   "outputs": [],
   "source": [
    "class_list2 = [class_list] * 2"
   ]
  },
  {
   "cell_type": "code",
   "execution_count": 29,
   "id": "c2e49e69",
   "metadata": {},
   "outputs": [],
   "source": [
    "class_list2[0][1] = \"삭제\""
   ]
  },
  {
   "cell_type": "code",
   "execution_count": 30,
   "id": "24f22783",
   "metadata": {},
   "outputs": [
    {
     "data": {
      "text/plain": [
       "[['호날두', '삭제', '덕배', '즐라탄'], ['호날두', '삭제', '덕배', '즐라탄']]"
      ]
     },
     "execution_count": 30,
     "metadata": {},
     "output_type": "execute_result"
    }
   ],
   "source": [
    "class_list2"
   ]
  },
  {
   "cell_type": "code",
   "execution_count": 32,
   "id": "4bb5dcae",
   "metadata": {},
   "outputs": [
    {
     "name": "stdout",
     "output_type": "stream",
     "text": [
      "4\n"
     ]
    }
   ],
   "source": [
    "print(len(class_list2[0]))"
   ]
  },
  {
   "cell_type": "code",
   "execution_count": 33,
   "id": "d722bda2",
   "metadata": {},
   "outputs": [
    {
     "name": "stdout",
     "output_type": "stream",
     "text": [
      "2\n"
     ]
    }
   ],
   "source": [
    "print(len(class_list2))"
   ]
  },
  {
   "cell_type": "code",
   "execution_count": 34,
   "id": "b47bb8ae",
   "metadata": {},
   "outputs": [
    {
     "data": {
      "text/plain": [
       "['A', 100, ['sksk', 1234], '선생님']"
      ]
     },
     "execution_count": 34,
     "metadata": {},
     "output_type": "execute_result"
    }
   ],
   "source": [
    "[\"A\", 100, [\"sksk\", 1234], \"선생님\"] #다양한 자료형 하나의 리스트에!"
   ]
  },
  {
   "cell_type": "code",
   "execution_count": 35,
   "id": "5713a64a",
   "metadata": {},
   "outputs": [
    {
     "name": "stdout",
     "output_type": "stream",
     "text": [
      "<class 'tuple'>\n"
     ]
    }
   ],
   "source": [
    "pi = (3, 1, 4, 1, 5, 9) # 튜플은 const 바뀌지 않음\n",
    "print(type(pi))"
   ]
  },
  {
   "cell_type": "code",
   "execution_count": 36,
   "id": "7801fc46",
   "metadata": {},
   "outputs": [
    {
     "data": {
      "text/plain": [
       "3"
      ]
     },
     "execution_count": 36,
     "metadata": {},
     "output_type": "execute_result"
    }
   ],
   "source": [
    "pi[0]"
   ]
  },
  {
   "cell_type": "code",
   "execution_count": 38,
   "id": "469e8b9d",
   "metadata": {},
   "outputs": [
    {
     "name": "stdout",
     "output_type": "stream",
     "text": [
      "<class 'list'>\n",
      "<class 'tuple'>\n"
     ]
    }
   ],
   "source": [
    "# tuple to list\n",
    "list_pi = list(pi)\n",
    "print(type(list_pi))\n",
    "tuple_pi = tuple(list_pi)\n",
    "print(type(tuple_pi))"
   ]
  },
  {
   "cell_type": "code",
   "execution_count": 40,
   "id": "67cddf52",
   "metadata": {},
   "outputs": [
    {
     "name": "stdout",
     "output_type": "stream",
     "text": [
      "<class 'set'>\n",
      "{'Tom', 'Jane', 'Mike'}\n",
      "<class 'dict'>\n"
     ]
    }
   ],
   "source": [
    "attendence_set = {\"Tom\", \"Mike\", \"Jane\", \"Tom\"}\n",
    "print(type(attendence_set))\n",
    "print(attendence_set) #Tom은 두개지만 하나밖에 출력이 안됨 - 순서 없음\n",
    "\n",
    "student_number = {\"Tom\":20201010, \"Mike\": 20191219, \"Jane\": 20172193}\n",
    "print(type(student_number))"
   ]
  },
  {
   "cell_type": "code",
   "execution_count": 42,
   "id": "cd841d8a",
   "metadata": {},
   "outputs": [],
   "source": [
    "from collections import OrderedDict"
   ]
  },
  {
   "cell_type": "code",
   "execution_count": 43,
   "id": "314a3d03",
   "metadata": {},
   "outputs": [
    {
     "name": "stdout",
     "output_type": "stream",
     "text": [
      "dict_keys(['Tom', 'Mike', 'Jane'])\n",
      "dict_values([20201010, 20191219, 20172193])\n",
      "dict_items([('Tom', 20201010), ('Mike', 20191219), ('Jane', 20172193)])\n"
     ]
    }
   ],
   "source": [
    "student_number = {\"Tom\":20201010, \"Mike\": 20191219, \"Jane\": 20172193}\n",
    "print(student_number.keys())\n",
    "print(student_number.values())\n",
    "print(student_number.items())"
   ]
  },
  {
   "cell_type": "code",
   "execution_count": null,
   "id": "42d6ecd0",
   "metadata": {},
   "outputs": [],
   "source": []
  }
 ],
 "metadata": {
  "celltoolbar": "Raw Cell Format",
  "kernelspec": {
   "display_name": "Python 3",
   "language": "python",
   "name": "python3"
  },
  "language_info": {
   "codemirror_mode": {
    "name": "ipython",
    "version": 3
   },
   "file_extension": ".py",
   "mimetype": "text/x-python",
   "name": "python",
   "nbconvert_exporter": "python",
   "pygments_lexer": "ipython3",
   "version": "3.8.8"
  }
 },
 "nbformat": 4,
 "nbformat_minor": 5
}
