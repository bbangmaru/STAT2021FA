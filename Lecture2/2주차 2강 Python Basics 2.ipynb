{
 "cells": [
  {
   "cell_type": "code",
   "execution_count": 1,
   "id": "9820a6e9",
   "metadata": {},
   "outputs": [
    {
     "name": "stdout",
     "output_type": "stream",
     "text": [
      "장려 장학금\n"
     ]
    }
   ],
   "source": [
    "my_gpa = 3.5\n",
    "my_admission_year = 2017\n",
    "\n",
    "\n",
    "if(my_gpa > 4.0):\n",
    "    print(\"최우수 장학금\")\n",
    "else:\n",
    "    print(\"장려 장학금\")"
   ]
  },
  {
   "cell_type": "code",
   "execution_count": 4,
   "id": "1990197d",
   "metadata": {},
   "outputs": [
    {
     "name": "stdout",
     "output_type": "stream",
     "text": [
      "장려 장학금\n"
     ]
    }
   ],
   "source": [
    "if(my_gpa > 4.0):\n",
    "    print(\"최우수 장학금\")\n",
    "elif my_gpa <= 2.0:\n",
    "    print(\"당신은 힘내요 장학금\")\n",
    "else:\n",
    "    print(\"장려 장학금\")"
   ]
  },
  {
   "cell_type": "code",
   "execution_count": 5,
   "id": "918e2735",
   "metadata": {},
   "outputs": [
    {
     "name": "stdout",
     "output_type": "stream",
     "text": [
      "당신은 힘내요 장학금\n"
     ]
    }
   ],
   "source": [
    "if(my_gpa > 4.0):\n",
    "    print(\"최우수 장학금\")\n",
    "elif not my_gpa <= 2.0:\n",
    "    print(\"당신은 힘내요 장학금\")\n",
    "else:\n",
    "    print(\"장려 장학금\")"
   ]
  },
  {
   "cell_type": "code",
   "execution_count": 9,
   "id": "deeeb2cf",
   "metadata": {},
   "outputs": [
    {
     "name": "stdout",
     "output_type": "stream",
     "text": [
      "[0, 1, 2, 3, 4, 5, 6, 7, 8, 9]\n",
      "range(0, 10)\n"
     ]
    }
   ],
   "source": [
    "#for x in range(0, 10): #range(a, b)\n",
    "print(list(range(0, 10)))\n",
    "print(range(0, 10))"
   ]
  },
  {
   "cell_type": "code",
   "execution_count": 10,
   "id": "9dcc9133",
   "metadata": {},
   "outputs": [
    {
     "name": "stdout",
     "output_type": "stream",
     "text": [
      "0 1 2 3 4 5 6 7 8 9 "
     ]
    }
   ],
   "source": [
    "for x in range(0, 10):\n",
    "    print(x, end=\" \")"
   ]
  },
  {
   "cell_type": "code",
   "execution_count": 13,
   "id": "9a81a0d9",
   "metadata": {},
   "outputs": [
    {
     "name": "stdout",
     "output_type": "stream",
     "text": [
      "A\n",
      "B\n",
      "C\n",
      "D\n",
      "\n",
      "\n",
      "A\n",
      "B\n",
      "C\n",
      "D\n"
     ]
    }
   ],
   "source": [
    "homework_list = [\"A\", \"B\", \"C\", \"D\"]\n",
    "for item in homework_list:\n",
    "    print(item)\n",
    "print(\"\\n\")\n",
    "for item in [\"A\", \"B\", \"C\", \"D\"]:\n",
    "    print(item)"
   ]
  },
  {
   "cell_type": "code",
   "execution_count": 16,
   "id": "7267dbcc",
   "metadata": {},
   "outputs": [
    {
     "name": "stdout",
     "output_type": "stream",
     "text": [
      "1\n",
      "2\n",
      "3\n",
      "10\n",
      "20\n",
      "30\n",
      "100\n",
      "200\n",
      "300\n"
     ]
    }
   ],
   "source": [
    "numbers = [[1, 2, 3], [10, 20, 30], [100, 200, 300]]\n",
    "for i in range(len(numbers)):\n",
    "    for j in range(len(numbers[i])):\n",
    "        print(numbers[i][j])\n",
    "#itertools 사용을 권장"
   ]
  },
  {
   "cell_type": "code",
   "execution_count": 17,
   "id": "213ba4b0",
   "metadata": {},
   "outputs": [
    {
     "name": "stdout",
     "output_type": "stream",
     "text": [
      "0 1 2 3 "
     ]
    }
   ],
   "source": [
    "for x in range(0, 10):\n",
    "    print(x, end=\" \")\n",
    "    if(x==3):\n",
    "        break;"
   ]
  },
  {
   "cell_type": "code",
   "execution_count": 20,
   "id": "eb1456b1",
   "metadata": {},
   "outputs": [
    {
     "name": "stdout",
     "output_type": "stream",
     "text": [
      "0 2 4 6 8 "
     ]
    }
   ],
   "source": [
    "for x in range(0, 10):\n",
    "    if(x%2):\n",
    "        continue;\n",
    "    print(x, end=\" \")"
   ]
  },
  {
   "cell_type": "code",
   "execution_count": 21,
   "id": "f3e125af",
   "metadata": {},
   "outputs": [],
   "source": [
    "import random\n",
    "# mersenen twister -> 빠르고 좋다\n"
   ]
  },
  {
   "cell_type": "code",
   "execution_count": 23,
   "id": "6f15062f",
   "metadata": {},
   "outputs": [
    {
     "name": "stdout",
     "output_type": "stream",
     "text": [
      "37\n",
      "89\n",
      "43\n",
      "8\n",
      "34\n",
      "5\n",
      "3\n",
      "16\n",
      "71\n"
     ]
    }
   ],
   "source": [
    "randnum = random.randrange(0, 100)\n",
    "while(randnum < 90):\n",
    "    print(randnum)\n",
    "    randnum = random.randrange(0, 100)"
   ]
  },
  {
   "cell_type": "code",
   "execution_count": 24,
   "id": "a5f67edc",
   "metadata": {},
   "outputs": [
    {
     "name": "stdout",
     "output_type": "stream",
     "text": [
      "1\n",
      "3\n",
      "5\n"
     ]
    }
   ],
   "source": [
    "index = 0\n",
    "while(index < 10):\n",
    "    index += 1\n",
    "    if(index % 2 == 0):\n",
    "        continue\n",
    "    elif(index == 7):\n",
    "        break\n",
    "    print(index)"
   ]
  },
  {
   "cell_type": "code",
   "execution_count": 25,
   "id": "ed527e04",
   "metadata": {},
   "outputs": [
    {
     "name": "stdout",
     "output_type": "stream",
     "text": [
      "30\n"
     ]
    }
   ],
   "source": [
    "def addNumber(num1, num2):\n",
    "    total = num1 + num2\n",
    "    return total\n",
    "print(addNumber(10, 20))"
   ]
  },
  {
   "cell_type": "code",
   "execution_count": 28,
   "id": "4cb47aec",
   "metadata": {},
   "outputs": [
    {
     "name": "stdout",
     "output_type": "stream",
     "text": [
      "니다.\n",
      "s1입니다.s1아닙니다\n"
     ]
    }
   ],
   "source": [
    "# string\n",
    "s1 = \"s1입니다.\"\n",
    "print(s1[-3:])\n",
    "print(s1+\"s1아닙니다\")"
   ]
  },
  {
   "cell_type": "code",
   "execution_count": 32,
   "id": "c8d4f2cb",
   "metadata": {},
   "outputs": [
    {
     "name": "stdout",
     "output_type": "stream",
     "text": [
      "나는 윤진혁이고, 교수 입니다. 2020부터 일합니다.\n"
     ]
    }
   ],
   "source": [
    "name = \"윤진혁\"\n",
    "myclass = \"교수\"\n",
    "mystartingyear = 2020\n",
    "print(\"나는 %s이고, %s 입니다. %d부터 일합니다.\" %(name, myclass, mystartingyear))"
   ]
  },
  {
   "cell_type": "code",
   "execution_count": 34,
   "id": "ca3630aa",
   "metadata": {},
   "outputs": [
    {
     "name": "stdout",
     "output_type": "stream",
     "text": [
      "나는 윤진혁이고, 교수입니다. 2020부터 일합니다.\n"
     ]
    }
   ],
   "source": [
    "print(f\"나는 {name}이고, {myclass}입니다. {mystartingyear}부터 일합니다.\")"
   ]
  },
  {
   "cell_type": "code",
   "execution_count": 38,
   "id": "8859e19a",
   "metadata": {},
   "outputs": [],
   "source": [
    "pop_song = \"Every night in my dreams, I see you, I feel you - my heart will go on\""
   ]
  },
  {
   "cell_type": "code",
   "execution_count": 39,
   "id": "ba12c37f",
   "metadata": {},
   "outputs": [
    {
     "data": {
      "text/plain": [
       "'every night in my dreams, i see you, i feel you - my heart will go on'"
      ]
     },
     "execution_count": 39,
     "metadata": {},
     "output_type": "execute_result"
    }
   ],
   "source": [
    "pop_song.lower() # 모두 소문자"
   ]
  },
  {
   "cell_type": "code",
   "execution_count": 40,
   "id": "53694713",
   "metadata": {},
   "outputs": [
    {
     "data": {
      "text/plain": [
       "'Every night in my dreams, i see you, i feel you - my heart will go on'"
      ]
     },
     "execution_count": 40,
     "metadata": {},
     "output_type": "execute_result"
    }
   ],
   "source": [
    "pop_song.capitalize() #첫글자만 대문자"
   ]
  },
  {
   "cell_type": "code",
   "execution_count": 41,
   "id": "cac80c7a",
   "metadata": {},
   "outputs": [
    {
     "data": {
      "text/plain": [
       "False"
      ]
     },
     "execution_count": 41,
     "metadata": {},
     "output_type": "execute_result"
    }
   ],
   "source": [
    "pop_song.isalpha() #알파벳인가?(문자열에 숫자 및 공백 있으면 = false)"
   ]
  },
  {
   "cell_type": "code",
   "execution_count": 44,
   "id": "1637e5a3",
   "metadata": {},
   "outputs": [
    {
     "name": "stdout",
     "output_type": "stream",
     "text": [
      "True\n",
      "False\n"
     ]
    }
   ],
   "source": [
    "pop_song2 = \"givwemeonemorechance\"\n",
    "print(pop_song2.isalpha())\n",
    "pop_song3 = \"djdjd123\"\n",
    "print(pop_song3.isalpha())"
   ]
  },
  {
   "cell_type": "code",
   "execution_count": 45,
   "id": "39489efc",
   "metadata": {},
   "outputs": [
    {
     "data": {
      "text/plain": [
       "True"
      ]
     },
     "execution_count": 45,
     "metadata": {},
     "output_type": "execute_result"
    }
   ],
   "source": [
    "pop_song3.isalnum()#숫자를 포함하고 있는가?"
   ]
  },
  {
   "cell_type": "code",
   "execution_count": 46,
   "id": "f3db8205",
   "metadata": {},
   "outputs": [
    {
     "data": {
      "text/plain": [
       "'gjgjg123'"
      ]
     },
     "execution_count": 46,
     "metadata": {},
     "output_type": "execute_result"
    }
   ],
   "source": [
    "pop_song3.replace(\"d\", \"g\")"
   ]
  },
  {
   "cell_type": "code",
   "execution_count": 48,
   "id": "f30978a5",
   "metadata": {},
   "outputs": [
    {
     "data": {
      "text/plain": [
       "['Every',\n",
       " 'night',\n",
       " 'in',\n",
       " 'my',\n",
       " 'dreams,',\n",
       " 'I',\n",
       " 'see',\n",
       " 'you,',\n",
       " 'I',\n",
       " 'feel',\n",
       " 'you',\n",
       " '-',\n",
       " 'my',\n",
       " 'heart',\n",
       " 'will',\n",
       " 'go',\n",
       " 'on']"
      ]
     },
     "execution_count": 48,
     "metadata": {},
     "output_type": "execute_result"
    }
   ],
   "source": [
    "pop_song.split()#공백으로 구분해준다"
   ]
  },
  {
   "cell_type": "code",
   "execution_count": 49,
   "id": "f7fc6bec",
   "metadata": {},
   "outputs": [
    {
     "data": {
      "text/plain": [
       "['Every night in my dreams', ' I see you', ' I feel you - my heart will go on']"
      ]
     },
     "execution_count": 49,
     "metadata": {},
     "output_type": "execute_result"
    }
   ],
   "source": [
    "pop_song.split(',')#콤마로 구분"
   ]
  },
  {
   "cell_type": "code",
   "execution_count": 50,
   "id": "e529866b",
   "metadata": {},
   "outputs": [
    {
     "data": {
      "text/plain": [
       "18"
      ]
     },
     "execution_count": 50,
     "metadata": {},
     "output_type": "execute_result"
    }
   ],
   "source": [
    "pop_song.find(\"dreams\")#시작하는 index 반환"
   ]
  },
  {
   "cell_type": "code",
   "execution_count": 51,
   "id": "3f7d0ad7",
   "metadata": {},
   "outputs": [
    {
     "data": {
      "text/plain": [
       "'Hello'"
      ]
     },
     "execution_count": 51,
     "metadata": {},
     "output_type": "execute_result"
    }
   ],
   "source": [
    "pop_song4 = \"           Hello           \"\n",
    "pop_song4.strip()#앞 뒤 공백 모두 제거"
   ]
  },
  {
   "cell_type": "code",
   "execution_count": 52,
   "id": "54d90c16",
   "metadata": {},
   "outputs": [
    {
     "data": {
      "text/plain": [
       "'           Hello'"
      ]
     },
     "execution_count": 52,
     "metadata": {},
     "output_type": "execute_result"
    }
   ],
   "source": [
    "pop_song4.rstrip()#오른쪽 공백만 제거"
   ]
  },
  {
   "cell_type": "code",
   "execution_count": 53,
   "id": "79baf70e",
   "metadata": {},
   "outputs": [
    {
     "data": {
      "text/plain": [
       "'Hello           '"
      ]
     },
     "execution_count": 53,
     "metadata": {},
     "output_type": "execute_result"
    }
   ],
   "source": [
    "pop_song4.lstrip()#왼쪽 공백만 제거"
   ]
  },
  {
   "cell_type": "code",
   "execution_count": 54,
   "id": "01c99ce0",
   "metadata": {},
   "outputs": [],
   "source": [
    "test_file = open(\"./test.txt\", \"w\")#쓰기 상태(write)"
   ]
  },
  {
   "cell_type": "code",
   "execution_count": 55,
   "id": "c98b1311",
   "metadata": {},
   "outputs": [
    {
     "name": "stdout",
     "output_type": "stream",
     "text": [
      "./test.txt\n"
     ]
    }
   ],
   "source": [
    "print(test_file.name)#파일명"
   ]
  },
  {
   "cell_type": "code",
   "execution_count": 56,
   "id": "675aab61",
   "metadata": {},
   "outputs": [
    {
     "data": {
      "text/plain": [
       "5"
      ]
     },
     "execution_count": 56,
     "metadata": {},
     "output_type": "execute_result"
    }
   ],
   "source": [
    "test_file.write(\"안녕하세요\")#문자열 쓰기"
   ]
  },
  {
   "cell_type": "code",
   "execution_count": 57,
   "id": "dc23232c",
   "metadata": {},
   "outputs": [],
   "source": [
    "test_file.close()#항상 작업 후 파일 close 해주기"
   ]
  },
  {
   "cell_type": "code",
   "execution_count": 59,
   "id": "d13fb01d",
   "metadata": {},
   "outputs": [
    {
     "name": "stdout",
     "output_type": "stream",
     "text": [
      "안녕하세요\n"
     ]
    }
   ],
   "source": [
    "test_file = open(\"./test.txt\", \"r\")#read 모드\n",
    "text_in_file = test_file.read()\n",
    "print(text_in_file)\n",
    "test_file.close()"
   ]
  },
  {
   "cell_type": "code",
   "execution_count": 61,
   "id": "a82351cf",
   "metadata": {},
   "outputs": [],
   "source": [
    "import os\n",
    "os.remove(\"./test.txt\")#file remove"
   ]
  },
  {
   "cell_type": "code",
   "execution_count": 62,
   "id": "fb80dcda",
   "metadata": {},
   "outputs": [],
   "source": [
    "#객체 지향을 위한 class"
   ]
  },
  {
   "cell_type": "code",
   "execution_count": 67,
   "id": "26a981ed",
   "metadata": {},
   "outputs": [],
   "source": [
    "# private -> __var -> 언더바 2개\n",
    "# protected -> _var -> 언더바 1개"
   ]
  },
  {
   "cell_type": "code",
   "execution_count": 83,
   "id": "9d0d087d",
   "metadata": {},
   "outputs": [],
   "source": [
    "class Student:\n",
    "    '''학생 정보에 대한 클래스'''\n",
    "    __name = \"\"\n",
    "    __id = 0\n",
    "    __gopa = 0.0\n",
    "    __department = \"\"\n",
    "    \n",
    "    def __init__(self, name, id, gpa, department):\n",
    "        self.__name = name\n",
    "        self.__id = id\n",
    "        self.__gpa = gpa\n",
    "        self.__department = department\n",
    "        \n",
    "    def set_name(self, name): #self는 C++의 this와 같은 역할\n",
    "        self.__name = name;\n",
    "        \n",
    "    def set_id(self, id):\n",
    "        self.__id = id\n",
    "        \n",
    "    def set_gpa(self, gpa):\n",
    "        self.__gpa = gpa\n",
    "    \n",
    "    def set_department(self, department):\n",
    "        self.__department = department\n",
    "        \n",
    "    def get_name(self):\n",
    "        return self.__name\n",
    "    \n",
    "    def get_id(self):\n",
    "        return self.__id\n",
    "    \n",
    "    def get_gpa(self):\n",
    "        return self.__gpa\n",
    "    \n",
    "    def get_department(self):\n",
    "        return self.__department\n",
    "    \n",
    "    def get_type(self):\n",
    "        print(\"Student\")\n",
    "        \n",
    "    def toString(self):\n",
    "        return f\"학생 {self.__name}은(는) 학번이 {self.__id}이고, 평균 학점은 {self.__gpa}이며 {self.__department}를 다닙니다.\""
   ]
  },
  {
   "cell_type": "code",
   "execution_count": null,
   "id": "ae3723dc",
   "metadata": {},
   "outputs": [],
   "source": []
  },
  {
   "cell_type": "code",
   "execution_count": null,
   "id": "313f0d40",
   "metadata": {},
   "outputs": [],
   "source": []
  },
  {
   "cell_type": "code",
   "execution_count": 84,
   "id": "57aeaf5d",
   "metadata": {},
   "outputs": [],
   "source": [
    "Mike = Student(\"Mike\", 20202021, 4.3, \"스시소\")"
   ]
  },
  {
   "cell_type": "code",
   "execution_count": 85,
   "id": "a095f314",
   "metadata": {},
   "outputs": [
    {
     "data": {
      "text/plain": [
       "'학생 Mike은(는) 학번이 20202021이고, 평균 학점은 4.3이며 스시소를 다닙니다.'"
      ]
     },
     "execution_count": 85,
     "metadata": {},
     "output_type": "execute_result"
    }
   ],
   "source": [
    "Mike.toString()"
   ]
  },
  {
   "cell_type": "code",
   "execution_count": 91,
   "id": "4d6a5f8e",
   "metadata": {},
   "outputs": [],
   "source": [
    "class UnionStudent(Student):\n",
    "    __unionclass = \"\"\n",
    "    def __init__(self, name, id, gpa, department, unionclass):\n",
    "        self.__unionclass = unionclass\n",
    "        super(UnionStudent, self).__init__(name, id, gpa, department)\n",
    "        \n",
    "    def set_class(self, unionclass):\n",
    "        self.__unionclass = unionclass\n",
    "    \n",
    "    def get_class(self):\n",
    "        return self.__unionclass\n",
    "    \n",
    "    def get_type(self):\n",
    "        print(\"Student Union\")\n",
    "        \n",
    "    def toString(self):\n",
    "        return f\"학생 {self.get_name()}은(는) 학번이 {self.get_id()}이고, 평균 학점은 {self.get_gpa()}이며 {self.get_department()}를 다니는 학생회 {self.__unionclass}입니다.\"\n",
    "    "
   ]
  },
  {
   "cell_type": "code",
   "execution_count": 92,
   "id": "c6741591",
   "metadata": {},
   "outputs": [],
   "source": [
    "tom = UnionStudent(\"TOM\", 20202222, 4.3, \"스시소\", \"과대표\")"
   ]
  },
  {
   "cell_type": "code",
   "execution_count": 93,
   "id": "be8f0095",
   "metadata": {},
   "outputs": [
    {
     "data": {
      "text/plain": [
       "'학생 TOM은(는) 학번이 20202222이고, 평균 학점은 4.3이며 스시소를 다니는 학생회 과대표입니다.'"
      ]
     },
     "execution_count": 93,
     "metadata": {},
     "output_type": "execute_result"
    }
   ],
   "source": [
    "tom.toString()"
   ]
  },
  {
   "cell_type": "code",
   "execution_count": 95,
   "id": "19041e2e",
   "metadata": {},
   "outputs": [],
   "source": [
    "list_sample = []\n",
    "for i in range(10):\n",
    "    list_sample.append(i)"
   ]
  },
  {
   "cell_type": "code",
   "execution_count": 96,
   "id": "9d36028f",
   "metadata": {},
   "outputs": [
    {
     "data": {
      "text/plain": [
       "[0, 1, 2, 3, 4, 5, 6, 7, 8, 9]"
      ]
     },
     "execution_count": 96,
     "metadata": {},
     "output_type": "execute_result"
    }
   ],
   "source": [
    "list_sample"
   ]
  },
  {
   "cell_type": "code",
   "execution_count": 97,
   "id": "1d513ddf",
   "metadata": {},
   "outputs": [],
   "source": [
    "list_sample2 = [i for i in range(10)]"
   ]
  },
  {
   "cell_type": "code",
   "execution_count": 98,
   "id": "21ecf5b1",
   "metadata": {},
   "outputs": [
    {
     "data": {
      "text/plain": [
       "[0, 1, 2, 3, 4, 5, 6, 7, 8, 9]"
      ]
     },
     "execution_count": 98,
     "metadata": {},
     "output_type": "execute_result"
    }
   ],
   "source": [
    "list_sample2"
   ]
  },
  {
   "cell_type": "code",
   "execution_count": 105,
   "id": "8960d60d",
   "metadata": {},
   "outputs": [],
   "source": [
    "str_list = [str(item) for item in list_sample2]"
   ]
  },
  {
   "cell_type": "code",
   "execution_count": 106,
   "id": "bce05c08",
   "metadata": {},
   "outputs": [
    {
     "data": {
      "text/plain": [
       "['0', '1', '2', '3', '4', '5', '6', '7', '8', '9']"
      ]
     },
     "execution_count": 106,
     "metadata": {},
     "output_type": "execute_result"
    }
   ],
   "source": [
    "str_list"
   ]
  },
  {
   "cell_type": "code",
   "execution_count": 107,
   "id": "63bd291a",
   "metadata": {},
   "outputs": [],
   "source": [
    "str_list2 = [str(item) for item in list_sample2 if item%2 == 0]"
   ]
  },
  {
   "cell_type": "code",
   "execution_count": 108,
   "id": "4de87dfc",
   "metadata": {},
   "outputs": [
    {
     "data": {
      "text/plain": [
       "['0', '2', '4', '6', '8']"
      ]
     },
     "execution_count": 108,
     "metadata": {},
     "output_type": "execute_result"
    }
   ],
   "source": [
    "str_list2"
   ]
  },
  {
   "cell_type": "code",
   "execution_count": 111,
   "id": "f39b4c93",
   "metadata": {},
   "outputs": [],
   "source": [
    "str_list3 = [item*2 if item%2 == 0 else item for item in list_sample]"
   ]
  },
  {
   "cell_type": "code",
   "execution_count": 112,
   "id": "09f4547f",
   "metadata": {},
   "outputs": [
    {
     "data": {
      "text/plain": [
       "[0, 1, 4, 3, 8, 5, 12, 7, 16, 9]"
      ]
     },
     "execution_count": 112,
     "metadata": {},
     "output_type": "execute_result"
    }
   ],
   "source": [
    "str_list3"
   ]
  },
  {
   "cell_type": "code",
   "execution_count": 113,
   "id": "9fe67c61",
   "metadata": {},
   "outputs": [],
   "source": [
    "num_dict = {1: 100, 2: 200, 3: 300, 4: 400}"
   ]
  },
  {
   "cell_type": "code",
   "execution_count": 114,
   "id": "9606f017",
   "metadata": {},
   "outputs": [],
   "source": [
    "num_dict_filtered = {k: v for k, v in num_dict.items() if k % 2 == 0}"
   ]
  },
  {
   "cell_type": "code",
   "execution_count": 115,
   "id": "c131f2a2",
   "metadata": {},
   "outputs": [
    {
     "data": {
      "text/plain": [
       "{2: 200, 4: 400}"
      ]
     },
     "execution_count": 115,
     "metadata": {},
     "output_type": "execute_result"
    }
   ],
   "source": [
    "num_dict_filtered # 짝수인 경우에만"
   ]
  },
  {
   "cell_type": "code",
   "execution_count": null,
   "id": "b65de722",
   "metadata": {},
   "outputs": [],
   "source": []
  }
 ],
 "metadata": {
  "kernelspec": {
   "display_name": "Python 3",
   "language": "python",
   "name": "python3"
  },
  "language_info": {
   "codemirror_mode": {
    "name": "ipython",
    "version": 3
   },
   "file_extension": ".py",
   "mimetype": "text/x-python",
   "name": "python",
   "nbconvert_exporter": "python",
   "pygments_lexer": "ipython3",
   "version": "3.8.8"
  }
 },
 "nbformat": 4,
 "nbformat_minor": 5
}
